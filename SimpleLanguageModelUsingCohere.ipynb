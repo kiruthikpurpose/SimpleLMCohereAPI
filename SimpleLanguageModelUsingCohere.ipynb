{
  "nbformat": 4,
  "nbformat_minor": 0,
  "metadata": {
    "colab": {
      "provenance": [],
      "authorship_tag": "ABX9TyMxInyGt/ci8NRVtKuvUCtA",
      "include_colab_link": true
    },
    "kernelspec": {
      "name": "python3",
      "display_name": "Python 3"
    },
    "language_info": {
      "name": "python"
    }
  },
  "cells": [
    {
      "cell_type": "markdown",
      "metadata": {
        "id": "view-in-github",
        "colab_type": "text"
      },
      "source": [
        "<a href=\"https://colab.research.google.com/github/kiruthikpurpose/SimpleLMCohereAPI/blob/main/SimpleLanguageModelUsingCohere.ipynb\" target=\"_parent\"><img src=\"https://colab.research.google.com/assets/colab-badge.svg\" alt=\"Open In Colab\"/></a>"
      ]
    },
    {
      "cell_type": "code",
      "execution_count": null,
      "metadata": {
        "id": "Mwk9bCZsPvlg"
      },
      "outputs": [],
      "source": [
        "import cohere #Manually install Cohere if not working\n",
        "import numpy as np\n",
        "import warnings\n",
        "from annoy import AnnoyIndex\n",
        "import pandas as pd\n",
        "\n",
        "warnings.filterwarnings('ignore')\n"
      ]
    },
    {
      "cell_type": "code",
      "source": [
        "# Define the question\n",
        "question = \"Which Indian beach should I visit?\"\n",
        "\n",
        "# Define the text\n",
        "text = \"\"\"\n",
        "India is renowned for its diverse and beautiful beaches, each offering unique experiences and attractions. From bustling, vibrant beaches to serene, secluded ones, there's something for everyone.\n",
        "\n",
        "Goa Beaches: Goa is famous for its numerous beaches, each with its own charm. Baga Beach is known for its lively nightlife, water sports, and vibrant atmosphere. Palolem Beach offers a more tranquil experience with its scenic beauty and quieter environment.\n",
        "\n",
        "Marina Beach: Located in Chennai, Marina Beach is one of the longest urban beaches in the world. It's popular for its golden sands, bustling local life, and the nearby attractions like historical monuments and food stalls.\n",
        "\n",
        "Varkala Beach: Situated in Kerala, Varkala Beach is known for its stunning cliffs and natural springs. It's a great place for relaxation, swimming, and enjoying the scenic views. The beach is also known for its Ayurvedic treatments and yoga centers.\n",
        "\n",
        "Radhanagar Beach: Located on Havelock Island in the Andaman and Nicobar Islands, Radhanagar Beach is famous for its pristine white sands and clear blue waters. It's an ideal spot for swimming, snorkeling, and enjoying the natural beauty.\n",
        "\n",
        "Kovalam Beach: Also in Kerala, Kovalam Beach is famous for its crescent-shaped coastline, lighthouses, and calm waters. It's a popular destination for tourists looking for a mix of relaxation and adventure.\n",
        "\n",
        "Puri Beach: Located in Odisha, Puri Beach is known for its cultural significance and beautiful golden sands. It's a popular spot for both pilgrims and tourists, offering a unique blend of spirituality and scenic beauty.\n",
        "\"\"\"\n"
      ],
      "metadata": {
        "id": "5Ggb7kEBQsOP"
      },
      "execution_count": null,
      "outputs": []
    },
    {
      "cell_type": "code",
      "source": [
        "# Split into a list of paragraphs\n",
        "texts = text.split('\\n\\n')\n",
        "\n",
        "# Clean up to remove empty spaces and new lines\n",
        "texts = np.array([t.strip(' \\n') for t in texts if t])\n"
      ],
      "metadata": {
        "id": "4zIk1HPzQw-5"
      },
      "execution_count": null,
      "outputs": []
    },
    {
      "cell_type": "code",
      "source": [
        "# Initialize Cohere client\n",
        "co = cohere.Client('<Get your Cohere API Key from cohere.com>')\n",
        "\n",
        "# Get the embeddings\n",
        "response = co.embed(texts=texts.tolist()).embeddings\n"
      ],
      "metadata": {
        "id": "KmUy4YV6RDBN"
      },
      "execution_count": null,
      "outputs": []
    },
    {
      "cell_type": "code",
      "source": [
        "# Check the dimensions of the embeddings\n",
        "embeds = np.array(response)\n",
        "\n",
        "# Create the search index, pass the size of embedding\n",
        "search_index = AnnoyIndex(embeds.shape[1], 'angular')\n",
        "# Add all the vectors to the search index\n",
        "for i in range(len(embeds)):\n",
        "    search_index.add_item(i, embeds[i])\n",
        "\n",
        "search_index.build(10) # 10 trees\n",
        "search_index.save('test.ann')\n"
      ],
      "metadata": {
        "id": "OV-9YpvxRFa4"
      },
      "execution_count": null,
      "outputs": []
    },
    {
      "cell_type": "code",
      "source": [
        "def search_text(query):\n",
        "    # Get the query's embedding\n",
        "    query_embed = co.embed(texts=[query]).embeddings\n",
        "\n",
        "    # Retrieve the nearest neighbors\n",
        "    similar_item_ids = search_index.get_nns_by_vector(query_embed[0], 10, include_distances=True)\n",
        "\n",
        "    search_results = texts[similar_item_ids[0]]\n",
        "\n",
        "    return search_results\n",
        "\n",
        "# Example query\n",
        "results = search_text(question)\n",
        "print(results[0])\n"
      ],
      "metadata": {
        "id": "Ko9S56h9RIid"
      },
      "execution_count": null,
      "outputs": []
    },
    {
      "cell_type": "code",
      "source": [
        "def ask_llm(question, num_generations=1):\n",
        "    # Search the text archive\n",
        "    results = search_text(question)\n",
        "\n",
        "    # Get the top result\n",
        "    context = results[0]\n",
        "\n",
        "    # Prepare the prompt\n",
        "    prompt = f\"\"\"\n",
        "    More information about Indian beaches:\n",
        "    {context}\n",
        "    Question: {question}\n",
        "\n",
        "    Extract the answer of the question from the text provided.\n",
        "    If the text doesn't contain the answer,\n",
        "    reply that the answer is not available.\n",
        "    \"\"\"\n",
        "\n",
        "    prediction = co.generate(\n",
        "        prompt=prompt,\n",
        "        max_tokens=70,\n",
        "        model=\"command-nightly\",\n",
        "        temperature=0.5,\n",
        "        num_generations=num_generations\n",
        "    )\n",
        "\n",
        "    return prediction.generations\n"
      ],
      "metadata": {
        "id": "bM6ormJKRJPB"
      },
      "execution_count": null,
      "outputs": []
    },
    {
      "cell_type": "code",
      "source": [
        "# Example question 1\n",
        "question = \"Which Indian beach should I visit?\"\n",
        "results = ask_llm(question)\n",
        "print(results[0])\n",
        "\n",
        "# Example question 2\n",
        "question = \"Which Indian beach is family-friendly?\"\n",
        "results = ask_llm(question)\n",
        "print(results[0])\n",
        "\n",
        "# Example question 3\n",
        "question = \"Which Indian beach has a lighthouse?\"\n",
        "results = ask_llm(question)\n",
        "print(results[0])\n"
      ],
      "metadata": {
        "id": "I2HjMsiHRM55"
      },
      "execution_count": null,
      "outputs": []
    }
  ]
}